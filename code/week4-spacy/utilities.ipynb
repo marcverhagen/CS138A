{
 "cells": [
  {
   "cell_type": "code",
   "execution_count": 7,
   "metadata": {},
   "outputs": [],
   "source": [
    "def print_pipeline_info(nlp):\n",
    "    \"\"\"Utility method for printing some pipeline information.\"\"\"\n",
    "    print(nlp)\n",
    "    print(nlp.tokenizer)\n",
    "    if nlp.components:\n",
    "        print()\n",
    "        for name, component in nlp.components:\n",
    "            print(f\"{name:16} {component}\")\n",
    "    print()\n",
    "    print('NAME          ', nlp.meta['name'])\n",
    "    print('DESCRIPTION   ', nlp.meta['description'])\n",
    "    print('PIPELINE      ', nlp.meta['pipeline'])\n",
    "    print('COMPONENTS    ', nlp.component_names)\n",
    "    print('LABELS        ', list(nlp.meta['labels'].keys()))\n",
    "    print('LABELS[\"ner\"] ', list(nlp.meta['labels'].get(\"ner\", [])))"
   ]
  }
 ],
 "metadata": {
  "kernelspec": {
   "display_name": "Python 3",
   "language": "python",
   "name": "python3"
  },
  "language_info": {
   "codemirror_mode": {
    "name": "ipython",
    "version": 3
   },
   "file_extension": ".py",
   "mimetype": "text/x-python",
   "name": "python",
   "nbconvert_exporter": "python",
   "pygments_lexer": "ipython3",
   "version": "3.7.7"
  }
 },
 "nbformat": 4,
 "nbformat_minor": 5
}
