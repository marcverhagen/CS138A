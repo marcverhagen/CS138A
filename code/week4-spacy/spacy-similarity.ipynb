{
 "cells": [
  {
   "cell_type": "markdown",
   "id": "constant-typing",
   "metadata": {},
   "source": [
    "# Similarities\n",
    "\n",
    "You can always use similarities, but with a small model they are just based on token, dependency and ner information. Below we try to print the similarity score, the length of the vector on a token and the length of the vector on the lexeme. The last one fails for small language models."
   ]
  },
  {
   "cell_type": "code",
   "execution_count": 1,
   "id": "cellular-record",
   "metadata": {},
   "outputs": [],
   "source": [
    "import spacy"
   ]
  },
  {
   "cell_type": "code",
   "execution_count": 2,
   "id": "coordinate-tattoo",
   "metadata": {},
   "outputs": [],
   "source": [
    "nlp_sm = spacy.load(\"en_core_web_sm\")\n",
    "nlp_lg = spacy.load(\"en_core_web_lg\")"
   ]
  },
  {
   "cell_type": "code",
   "execution_count": 3,
   "id": "emotional-melissa",
   "metadata": {},
   "outputs": [],
   "source": [
    "def similarity_test(nlp, text, n1, n2):\n",
    "    doc = nlp(text)\n",
    "    print('similarity:', doc[n1].similarity(doc[n2]))\n",
    "    \n",
    "def vector_test(nlp, text):\n",
    "    doc = nlp(text)\n",
    "    print('size of vector on token:     ', len(doc[0].vector))\n",
    "    try:\n",
    "        print('size of vector on token.lex: ', len(doc[0].lex.vector))\n",
    "    except ValueError as e:\n",
    "        print(e)"
   ]
  },
  {
   "cell_type": "code",
   "execution_count": 4,
   "id": "polished-climate",
   "metadata": {},
   "outputs": [],
   "source": [
    "text = \"comparing apples and oranges\""
   ]
  },
  {
   "cell_type": "code",
   "execution_count": 5,
   "id": "turkish-investing",
   "metadata": {},
   "outputs": [
    {
     "name": "stdout",
     "output_type": "stream",
     "text": [
      "similarity: 0.6067285\n",
      "size of vector on token:      96\n",
      "[E010] Word vectors set to length 0. This may be because you don't have a model installed or loaded, or because your model doesn't include word vectors. For more info, see the docs:\n",
      "https://spacy.io/usage/models\n"
     ]
    },
    {
     "name": "stderr",
     "output_type": "stream",
     "text": [
      "<ipython-input-3-c042894d6125>:3: UserWarning: [W007] The model you're using has no word vectors loaded, so the result of the Token.similarity method will be based on the tagger, parser and NER, which may not give useful similarity judgements. This may happen if you're using one of the small models, e.g. `en_core_web_sm`, which don't ship with word vectors and only use context-sensitive tensors. You can always add your own word vectors, or use one of the larger models instead if available.\n",
      "  print('similarity:', doc[n1].similarity(doc[n2]))\n"
     ]
    }
   ],
   "source": [
    "# Printing the similarity score and the vector using the small model\n",
    "\n",
    "similarity_test(nlp_sm, text, 1, 3)\n",
    "vector_test(nlp_sm, text)"
   ]
  },
  {
   "cell_type": "code",
   "execution_count": 6,
   "id": "accompanied-custom",
   "metadata": {},
   "outputs": [
    {
     "name": "stdout",
     "output_type": "stream",
     "text": [
      "similarity: 0.77809423\n",
      "size of vector on token:      300\n",
      "size of vector on token.lex:  300\n"
     ]
    }
   ],
   "source": [
    "# Printing the similarity score and the vector using the large model\n",
    "\n",
    "similarity_test(nlp_lg, text, 1, 3)\n",
    "vector_test(nlp_lg, text)"
   ]
  },
  {
   "cell_type": "markdown",
   "id": "extensive-disability",
   "metadata": {},
   "source": [
    "Documents and spans have vectors too."
   ]
  },
  {
   "cell_type": "code",
   "execution_count": 7,
   "id": "fiscal-permit",
   "metadata": {},
   "outputs": [],
   "source": [
    "def compare_docs(nlp, text1, text2):\n",
    "    doc1 = nlp(text1)\n",
    "    doc2 = nlp(text2)\n",
    "    print(doc1.similarity(doc2))\n",
    "    \n",
    "def compare_spans(nlp, text1, text2, start, end):\n",
    "    span1 = nlp(text1)[start:end]\n",
    "    span2 = nlp(text2)[start:end]\n",
    "    print(span1.similarity(span2))"
   ]
  },
  {
   "cell_type": "code",
   "execution_count": 8,
   "id": "immediate-finger",
   "metadata": {},
   "outputs": [
    {
     "name": "stdout",
     "output_type": "stream",
     "text": [
      "0.9040502655654258\n"
     ]
    }
   ],
   "source": [
    "compare_docs(nlp_lg, \"We are eating pizza\", \"We are eating paella\")"
   ]
  },
  {
   "cell_type": "code",
   "execution_count": 9,
   "id": "seeing-senior",
   "metadata": {},
   "outputs": [
    {
     "name": "stdout",
     "output_type": "stream",
     "text": [
      "1.0\n"
     ]
    }
   ],
   "source": [
    "compare_spans(nlp_lg, \"We are eating pizza\", \"We are eating paella\", 0, 3)"
   ]
  },
  {
   "cell_type": "code",
   "execution_count": 10,
   "id": "emerging-charity",
   "metadata": {},
   "outputs": [
    {
     "name": "stdout",
     "output_type": "stream",
     "text": [
      "1.0\n"
     ]
    }
   ],
   "source": [
    "# this does not give a warning because the similarity function first checks the actual string\n",
    "compare_spans(nlp_sm, \"We are eating pizza\", \"We are eating paella\", 0, 3)"
   ]
  },
  {
   "cell_type": "code",
   "execution_count": 11,
   "id": "loaded-chancellor",
   "metadata": {},
   "outputs": [
    {
     "name": "stdout",
     "output_type": "stream",
     "text": [
      "<class 'spacy.tokens.span.Span'> We\n",
      "<class 'spacy.tokens.span.Span'> pizza\n"
     ]
    }
   ],
   "source": [
    "nlp = spacy.load(\"en_core_web_sm\")\n",
    "for nc in nlp(\"We are eating pizza\").noun_chunks:\n",
    "    print(type(nc), nc)"
   ]
  },
  {
   "cell_type": "code",
   "execution_count": 12,
   "id": "equipped-rider",
   "metadata": {},
   "outputs": [
    {
     "data": {
      "text/plain": [
       "array([-1.07563362e-02,  3.33379984e-01, -3.28269988e-01, -5.88053286e-01,\n",
       "        3.62993330e-01,  2.02390000e-01,  1.34178683e-01, -2.58746654e-01,\n",
       "       -1.32898003e-01,  3.90106648e-01, -1.44556671e-01,  4.27457958e-01,\n",
       "       -1.66819990e-01, -1.20200336e-01, -1.77853659e-01, -5.72146773e-02,\n",
       "        2.89449006e-01,  1.45733312e-01,  9.77416709e-02, -3.44655663e-01,\n",
       "       -2.71650016e-01,  3.74561340e-01,  2.62319326e-01,  2.68040001e-02,\n",
       "       -3.74459922e-02, -1.40609995e-01, -3.32466692e-01, -3.50136645e-02,\n",
       "        1.43150330e-01, -1.68436036e-01, -1.11395337e-01, -4.99066599e-02,\n",
       "       -6.44636676e-02,  2.66300350e-01, -3.86333466e-03, -8.14373270e-02,\n",
       "        3.79196644e-01, -1.44066676e-01, -3.57766636e-02,  2.55699337e-01,\n",
       "        3.49776983e-01, -7.86300004e-02,  1.81003332e-01, -3.06970000e-01,\n",
       "       -9.42760035e-02,  3.29153299e-01, -1.45003334e-01, -7.31186643e-02,\n",
       "       -1.73419669e-01,  7.76770040e-02,  6.54873326e-02, -5.40900230e-03,\n",
       "        1.55579999e-01, -9.49332118e-03, -4.53666635e-02,  1.59826681e-01,\n",
       "        7.14799985e-02,  3.65343317e-02, -2.74064630e-01, -9.20736715e-02,\n",
       "       -1.52166588e-02,  3.49733353e-01,  9.33466628e-02, -8.52633193e-02,\n",
       "       -6.92400038e-02, -9.46443379e-02,  8.48719850e-02,  6.66899979e-02,\n",
       "       -3.33857328e-01, -1.24433441e-02, -4.43583280e-01, -1.17006667e-01,\n",
       "       -3.37433331e-02,  1.04824997e-01, -2.76716679e-01,  3.26154679e-01,\n",
       "        3.21750015e-01, -3.46729994e-01,  1.04659997e-01,  2.76700165e-02,\n",
       "        4.07203324e-02, -1.29903331e-02, -5.44013321e-01, -4.73100059e-02,\n",
       "       -9.59800109e-02,  1.67999661e-03,  9.10929978e-01, -5.10256708e-01,\n",
       "        3.24090004e-01, -2.70900037e-02,  1.42267331e-01,  8.76120031e-02,\n",
       "        3.10929656e-01, -1.97651669e-01,  2.08529994e-01,  4.18980010e-02,\n",
       "       -7.42266551e-02, -3.09486657e-01, -2.16629997e-01, -1.83346674e-01,\n",
       "        1.55733347e-01, -5.82233258e-02, -8.54366645e-02,  2.07140014e-01,\n",
       "       -7.65633360e-02, -7.93196678e-01,  1.86724663e-01, -4.50566672e-02,\n",
       "       -2.24723294e-02, -5.37966676e-02,  2.92659998e-01, -1.32976666e-01,\n",
       "        1.22676671e-01, -2.31206656e-01,  5.93983345e-02,  4.70067374e-02,\n",
       "        1.47376001e-01, -7.58666312e-03, -1.52259991e-01, -3.73663418e-02,\n",
       "        1.02640100e-01,  1.15227997e-01,  1.23411991e-01,  2.02370152e-01,\n",
       "       -2.36191332e-01, -2.52566729e-02,  3.16083997e-01,  6.53466657e-02,\n",
       "       -4.75746803e-02, -1.99949339e-01, -1.92179993e-01, -9.50169936e-02,\n",
       "        2.14711037e-02,  3.79473329e-01, -1.93716168e-01,  2.16241002e-01,\n",
       "       -1.57722309e-01,  3.19218665e-01,  2.65276670e-01,  7.62733370e-02,\n",
       "       -1.19133329e+00,  8.37766603e-02,  1.32724673e-01,  2.11744666e-01,\n",
       "       -2.43133563e-03,  2.34024331e-01,  6.79583400e-02, -4.41233367e-02,\n",
       "       -1.91720009e-01, -1.53163001e-01,  5.70286691e-01,  1.70756653e-01,\n",
       "       -1.51262999e-01,  1.24203324e-01, -7.83423260e-02,  1.01359665e-01,\n",
       "        1.56606674e-01, -1.70918331e-01,  6.11800067e-02, -1.41189322e-01,\n",
       "        6.15593374e-01,  1.36814967e-01, -9.88233462e-02, -1.84913039e-01,\n",
       "        2.31748328e-01,  2.33245000e-01,  2.37990007e-01,  2.89316028e-01,\n",
       "       -2.24366635e-02, -2.69970018e-02,  2.82338351e-01, -4.66303676e-02,\n",
       "       -2.08583340e-01, -1.09809339e-01, -5.46411388e-02,  4.01482314e-01,\n",
       "        3.14895332e-01, -3.00653335e-02, -3.78163338e-01,  2.21863344e-01,\n",
       "        3.07679981e-01, -1.92547992e-01,  2.21199989e-02,  1.93646848e-02,\n",
       "        1.52543401e-02, -9.40499902e-02,  2.55066663e-01, -1.36323333e-01,\n",
       "        3.11926633e-01, -1.62522674e-01,  5.06500006e-02, -1.02729000e-01,\n",
       "        2.69633327e-02, -1.80234671e-01, -2.32485011e-01,  3.21143657e-01,\n",
       "        2.92896658e-01, -4.09280032e-01,  3.05142671e-01,  2.28582665e-01,\n",
       "       -5.25453329e-01,  4.89533246e-02, -1.85909331e-01,  2.04474524e-01,\n",
       "        1.19005643e-04,  1.20143341e-02,  2.04766020e-01,  8.34883377e-02,\n",
       "        1.96931675e-01, -1.32204339e-01, -4.14893657e-01,  1.72745004e-01,\n",
       "       -5.34913354e-02,  8.79510045e-02,  9.43333283e-02, -1.37741014e-01,\n",
       "        7.96919987e-02,  1.29428327e-01,  3.39103304e-02,  3.30566652e-02,\n",
       "        2.99205989e-01, -2.37586662e-01,  4.81178999e-01,  7.16836676e-02,\n",
       "       -4.00583357e-01,  2.97633354e-02, -1.78973332e-01, -2.05018997e-01,\n",
       "        9.67173278e-02, -1.81515336e-01,  1.96340263e-01, -3.77133340e-01,\n",
       "        7.94566702e-03, -2.83300388e-03, -1.29066661e-01,  8.97243321e-02,\n",
       "        2.04080001e-01, -2.24156663e-01,  2.96849698e-01, -1.88563373e-02,\n",
       "        9.85323191e-02,  2.04538003e-01, -4.50292021e-01, -6.66633323e-02,\n",
       "        3.42460014e-02, -1.66598007e-01, -2.16359988e-01,  6.47033304e-02,\n",
       "        1.93180010e-01,  1.32510662e-01,  4.62333374e-02,  3.82832699e-02,\n",
       "       -3.24009985e-01,  2.64268339e-01,  7.37886652e-02, -1.15413330e-01,\n",
       "        7.74233341e-02, -1.45126656e-01,  7.60900006e-02, -3.46813321e-01,\n",
       "        5.98516650e-02,  1.17046662e-01,  2.83060640e-01, -4.02293324e-01,\n",
       "       -2.11420000e-01,  1.96976662e-01,  8.88096690e-02, -1.93502009e-01,\n",
       "        4.25333381e-02,  6.10866658e-02, -1.16647996e-01,  4.25175339e-01,\n",
       "        2.21225008e-01,  7.44613335e-02, -5.84666729e-02,  4.60799970e-02,\n",
       "       -3.85000072e-02,  1.86083004e-01,  2.44986668e-01,  2.02190682e-01,\n",
       "       -1.32619992e-01,  2.31999993e-01,  5.03233308e-03, -1.43333331e-01,\n",
       "       -2.33679995e-01,  4.48075682e-01,  1.45453319e-01,  2.28610039e-02,\n",
       "        6.75473288e-02,  1.86626673e-01,  6.40833378e-02, -1.55562326e-01,\n",
       "       -6.54966608e-02,  6.98345378e-02, -5.26466630e-02,  1.60573319e-01,\n",
       "        2.59140342e-01,  3.55346322e-01, -1.94696665e-01, -2.32600018e-01],\n",
       "      dtype=float32)"
      ]
     },
     "execution_count": 12,
     "metadata": {},
     "output_type": "execute_result"
    }
   ],
   "source": [
    "nlp_lg(\"Fido barks.\").vector"
   ]
  }
 ],
 "metadata": {
  "kernelspec": {
   "display_name": "Python 3",
   "language": "python",
   "name": "python3"
  },
  "language_info": {
   "codemirror_mode": {
    "name": "ipython",
    "version": 3
   },
   "file_extension": ".py",
   "mimetype": "text/x-python",
   "name": "python",
   "nbconvert_exporter": "python",
   "pygments_lexer": "ipython3",
   "version": "3.8.5"
  }
 },
 "nbformat": 4,
 "nbformat_minor": 5
}
